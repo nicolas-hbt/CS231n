{
 "cells": [
  {
   "cell_type": "markdown",
   "metadata": {
    "tags": [
     "pdf-title"
    ]
   },
   "source": [
    "# Image features exercise\n",
    "*Complete and hand in this completed worksheet (including its outputs and any supporting code outside of the worksheet) with your assignment submission. For more details see the [assignments page](http://vision.stanford.edu/teaching/cs231n/assignments.html) on the course website.*\n",
    "\n",
    "We have seen that we can achieve reasonable performance on an image classification task by training a linear classifier on the pixels of the input image. In this exercise we will show that we can improve our classification performance by training linear classifiers not on raw pixels but on features that are computed from the raw pixels.\n",
    "\n",
    "All of your work for this exercise will be done in this notebook."
   ]
  },
  {
   "cell_type": "code",
   "execution_count": 8,
   "metadata": {
    "tags": [
     "pdf-ignore"
    ]
   },
   "outputs": [
    {
     "name": "stdout",
     "output_type": "stream",
     "text": [
      "The autoreload extension is already loaded. To reload it, use:\n",
      "  %reload_ext autoreload\n"
     ]
    }
   ],
   "source": [
    "import random\n",
    "import numpy as np\n",
    "from cs231n.data_utils import load_CIFAR10\n",
    "import matplotlib.pyplot as plt\n",
    "\n",
    "%matplotlib inline\n",
    "plt.rcParams['figure.figsize'] = (10.0, 8.0) # set default size of plots\n",
    "plt.rcParams['image.interpolation'] = 'nearest'\n",
    "plt.rcParams['image.cmap'] = 'gray'\n",
    "\n",
    "# for auto-reloading extenrnal modules\n",
    "# see http://stackoverflow.com/questions/1907993/autoreload-of-modules-in-ipython\n",
    "%load_ext autoreload\n",
    "%autoreload 2"
   ]
  },
  {
   "cell_type": "markdown",
   "metadata": {
    "tags": [
     "pdf-ignore"
    ]
   },
   "source": [
    "## Load data\n",
    "Similar to previous exercises, we will load CIFAR-10 data from disk."
   ]
  },
  {
   "cell_type": "code",
   "execution_count": 9,
   "metadata": {
    "tags": [
     "pdf-ignore"
    ]
   },
   "outputs": [],
   "source": [
    "from cs231n.features import color_histogram_hsv, hog_feature\n",
    "\n",
    "def get_CIFAR10_data(num_training=49000, num_validation=1000, num_test=1000):\n",
    "    # Load the raw CIFAR-10 data\n",
    "    cifar10_dir = 'cs231n/datasets/cifar-10-batches-py'\n",
    "\n",
    "    # Cleaning up variables to prevent loading data multiple times (which may cause memory issue)\n",
    "    try:\n",
    "       del X_train, y_train\n",
    "       del X_test, y_test\n",
    "       print('Clear previously loaded data.')\n",
    "    except:\n",
    "       pass\n",
    "\n",
    "    X_train, y_train, X_test, y_test = load_CIFAR10(cifar10_dir)\n",
    "    \n",
    "    # Subsample the data\n",
    "    mask = list(range(num_training, num_training + num_validation))\n",
    "    X_val = X_train[mask]\n",
    "    y_val = y_train[mask]\n",
    "    mask = list(range(num_training))\n",
    "    X_train = X_train[mask]\n",
    "    y_train = y_train[mask]\n",
    "    mask = list(range(num_test))\n",
    "    X_test = X_test[mask]\n",
    "    y_test = y_test[mask]\n",
    "    \n",
    "    return X_train, y_train, X_val, y_val, X_test, y_test\n",
    "\n",
    "X_train, y_train, X_val, y_val, X_test, y_test = get_CIFAR10_data()"
   ]
  },
  {
   "cell_type": "markdown",
   "metadata": {
    "tags": [
     "pdf-ignore"
    ]
   },
   "source": [
    "## Extract Features\n",
    "For each image we will compute a Histogram of Oriented\n",
    "Gradients (HOG) as well as a color histogram using the hue channel in HSV\n",
    "color space. We form our final feature vector for each image by concatenating\n",
    "the HOG and color histogram feature vectors.\n",
    "\n",
    "Roughly speaking, HOG should capture the texture of the image while ignoring\n",
    "color information, and the color histogram represents the color of the input\n",
    "image while ignoring texture. As a result, we expect that using both together\n",
    "ought to work better than using either alone. Verifying this assumption would\n",
    "be a good thing to try for your own interest.\n",
    "\n",
    "The `hog_feature` and `color_histogram_hsv` functions both operate on a single\n",
    "image and return a feature vector for that image. The extract_features\n",
    "function takes a set of images and a list of feature functions and evaluates\n",
    "each feature function on each image, storing the results in a matrix where\n",
    "each column is the concatenation of all feature vectors for a single image."
   ]
  },
  {
   "cell_type": "code",
   "execution_count": 10,
   "metadata": {
    "scrolled": true,
    "tags": [
     "pdf-ignore"
    ]
   },
   "outputs": [
    {
     "name": "stdout",
     "output_type": "stream",
     "text": [
      "Done extracting features for 1000 / 49000 images\n",
      "Done extracting features for 2000 / 49000 images\n",
      "Done extracting features for 3000 / 49000 images\n",
      "Done extracting features for 4000 / 49000 images\n",
      "Done extracting features for 5000 / 49000 images\n",
      "Done extracting features for 6000 / 49000 images\n",
      "Done extracting features for 7000 / 49000 images\n",
      "Done extracting features for 8000 / 49000 images\n",
      "Done extracting features for 9000 / 49000 images\n",
      "Done extracting features for 10000 / 49000 images\n",
      "Done extracting features for 11000 / 49000 images\n",
      "Done extracting features for 12000 / 49000 images\n",
      "Done extracting features for 13000 / 49000 images\n",
      "Done extracting features for 14000 / 49000 images\n",
      "Done extracting features for 15000 / 49000 images\n",
      "Done extracting features for 16000 / 49000 images\n",
      "Done extracting features for 17000 / 49000 images\n",
      "Done extracting features for 18000 / 49000 images\n",
      "Done extracting features for 19000 / 49000 images\n",
      "Done extracting features for 20000 / 49000 images\n",
      "Done extracting features for 21000 / 49000 images\n",
      "Done extracting features for 22000 / 49000 images\n",
      "Done extracting features for 23000 / 49000 images\n",
      "Done extracting features for 24000 / 49000 images\n",
      "Done extracting features for 25000 / 49000 images\n",
      "Done extracting features for 26000 / 49000 images\n",
      "Done extracting features for 27000 / 49000 images\n",
      "Done extracting features for 28000 / 49000 images\n",
      "Done extracting features for 29000 / 49000 images\n",
      "Done extracting features for 30000 / 49000 images\n",
      "Done extracting features for 31000 / 49000 images\n",
      "Done extracting features for 32000 / 49000 images\n",
      "Done extracting features for 33000 / 49000 images\n",
      "Done extracting features for 34000 / 49000 images\n",
      "Done extracting features for 35000 / 49000 images\n",
      "Done extracting features for 36000 / 49000 images\n",
      "Done extracting features for 37000 / 49000 images\n",
      "Done extracting features for 38000 / 49000 images\n",
      "Done extracting features for 39000 / 49000 images\n",
      "Done extracting features for 40000 / 49000 images\n",
      "Done extracting features for 41000 / 49000 images\n",
      "Done extracting features for 42000 / 49000 images\n",
      "Done extracting features for 43000 / 49000 images\n",
      "Done extracting features for 44000 / 49000 images\n",
      "Done extracting features for 45000 / 49000 images\n",
      "Done extracting features for 46000 / 49000 images\n",
      "Done extracting features for 47000 / 49000 images\n",
      "Done extracting features for 48000 / 49000 images\n",
      "Done extracting features for 49000 / 49000 images\n"
     ]
    }
   ],
   "source": [
    "from cs231n.features import *\n",
    "\n",
    "num_color_bins = 10 # Number of bins in the color histogram\n",
    "feature_fns = [hog_feature, lambda img: color_histogram_hsv(img, nbin=num_color_bins)]\n",
    "X_train_feats = extract_features(X_train, feature_fns, verbose=True)\n",
    "X_val_feats = extract_features(X_val, feature_fns)\n",
    "X_test_feats = extract_features(X_test, feature_fns)\n",
    "\n",
    "# Preprocessing: Subtract the mean feature\n",
    "mean_feat = np.mean(X_train_feats, axis=0, keepdims=True)\n",
    "X_train_feats -= mean_feat\n",
    "X_val_feats -= mean_feat\n",
    "X_test_feats -= mean_feat\n",
    "\n",
    "# Preprocessing: Divide by standard deviation. This ensures that each feature\n",
    "# has roughly the same scale.\n",
    "std_feat = np.std(X_train_feats, axis=0, keepdims=True)\n",
    "X_train_feats /= std_feat\n",
    "X_val_feats /= std_feat\n",
    "X_test_feats /= std_feat\n",
    "\n",
    "# Preprocessing: Add a bias dimension\n",
    "X_train_feats = np.hstack([X_train_feats, np.ones((X_train_feats.shape[0], 1))])\n",
    "X_val_feats = np.hstack([X_val_feats, np.ones((X_val_feats.shape[0], 1))])\n",
    "X_test_feats = np.hstack([X_test_feats, np.ones((X_test_feats.shape[0], 1))])"
   ]
  },
  {
   "cell_type": "markdown",
   "metadata": {},
   "source": [
    "## Train SVM on features\n",
    "Using the multiclass SVM code developed earlier in the assignment, train SVMs on top of the features extracted above; this should achieve better results than training SVMs directly on top of raw pixels."
   ]
  },
  {
   "cell_type": "code",
   "execution_count": 11,
   "metadata": {
    "tags": [
     "code"
    ]
   },
   "outputs": [
    {
     "name": "stdout",
     "output_type": "stream",
     "text": [
      "iteration 0 / 1500: loss 41.125639\n",
      "iteration 100 / 1500: loss 30.531067\n",
      "iteration 200 / 1500: loss 23.416868\n",
      "iteration 300 / 1500: loss 18.673255\n",
      "iteration 400 / 1500: loss 15.473707\n",
      "iteration 500 / 1500: loss 13.336479\n",
      "iteration 600 / 1500: loss 11.902437\n",
      "iteration 700 / 1500: loss 10.946436\n",
      "iteration 800 / 1500: loss 10.305521\n",
      "iteration 900 / 1500: loss 9.875142\n",
      "iteration 1000 / 1500: loss 9.586974\n",
      "iteration 1100 / 1500: loss 9.391911\n",
      "iteration 1200 / 1500: loss 9.261073\n",
      "iteration 1300 / 1500: loss 9.175364\n",
      "iteration 1400 / 1500: loss 9.116520\n",
      "iteration 0 / 1500: loss 9.098748\n",
      "iteration 100 / 1500: loss 9.059301\n",
      "iteration 200 / 1500: loss 9.035442\n",
      "iteration 300 / 1500: loss 9.021351\n",
      "iteration 400 / 1500: loss 9.012404\n",
      "iteration 500 / 1500: loss 9.007241\n",
      "iteration 600 / 1500: loss 9.004191\n",
      "iteration 700 / 1500: loss 9.002379\n",
      "iteration 800 / 1500: loss 9.001124\n",
      "iteration 900 / 1500: loss 9.000366\n",
      "iteration 1000 / 1500: loss 8.999977\n",
      "iteration 1100 / 1500: loss 8.999603\n",
      "iteration 1200 / 1500: loss 8.999524\n",
      "iteration 1300 / 1500: loss 8.999616\n",
      "iteration 1400 / 1500: loss 8.999331\n",
      "iteration 0 / 1500: loss 8.999508\n",
      "iteration 100 / 1500: loss 8.999383\n",
      "iteration 200 / 1500: loss 8.999494\n",
      "iteration 300 / 1500: loss 8.999409\n",
      "iteration 400 / 1500: loss 8.999581\n",
      "iteration 500 / 1500: loss 8.999319\n",
      "iteration 600 / 1500: loss 8.999303\n",
      "iteration 700 / 1500: loss 8.999613\n",
      "iteration 800 / 1500: loss 8.999290\n",
      "iteration 900 / 1500: loss 8.999446\n",
      "iteration 1000 / 1500: loss 8.999510\n",
      "iteration 1100 / 1500: loss 8.999495\n",
      "iteration 1200 / 1500: loss 8.999493\n",
      "iteration 1300 / 1500: loss 8.999270\n",
      "iteration 1400 / 1500: loss 8.999358\n",
      "iteration 0 / 1500: loss 8.999200\n",
      "iteration 100 / 1500: loss 8.998899\n",
      "iteration 200 / 1500: loss 8.998970\n",
      "iteration 300 / 1500: loss 8.999070\n",
      "iteration 400 / 1500: loss 8.999070\n",
      "iteration 500 / 1500: loss 8.999067\n",
      "iteration 600 / 1500: loss 8.999209\n",
      "iteration 700 / 1500: loss 8.998991\n",
      "iteration 800 / 1500: loss 8.999080\n",
      "iteration 900 / 1500: loss 8.999103\n",
      "iteration 1000 / 1500: loss 8.999117\n",
      "iteration 1100 / 1500: loss 8.998930\n",
      "iteration 1200 / 1500: loss 8.999061\n",
      "iteration 1300 / 1500: loss 8.999150\n",
      "iteration 1400 / 1500: loss 8.999080\n",
      "iteration 0 / 1500: loss 8.999731\n",
      "iteration 100 / 1500: loss 8.999357\n",
      "iteration 200 / 1500: loss 8.999297\n",
      "iteration 300 / 1500: loss 8.999348\n",
      "iteration 400 / 1500: loss 8.999289\n",
      "iteration 500 / 1500: loss 8.999404\n",
      "iteration 600 / 1500: loss 8.999353\n",
      "iteration 700 / 1500: loss 8.999439\n",
      "iteration 800 / 1500: loss 8.999354\n",
      "iteration 900 / 1500: loss 8.999235\n",
      "iteration 1000 / 1500: loss 8.999189\n",
      "iteration 1100 / 1500: loss 8.999301\n",
      "iteration 1200 / 1500: loss 8.999318\n",
      "iteration 1300 / 1500: loss 8.999288\n",
      "iteration 1400 / 1500: loss 8.999155\n",
      "iteration 0 / 1500: loss 8.999490\n",
      "iteration 100 / 1500: loss 8.999398\n",
      "iteration 200 / 1500: loss 8.999478\n",
      "iteration 300 / 1500: loss 8.999522\n",
      "iteration 400 / 1500: loss 8.999355\n",
      "iteration 500 / 1500: loss 8.999422\n",
      "iteration 600 / 1500: loss 8.999368\n",
      "iteration 700 / 1500: loss 8.999415\n",
      "iteration 800 / 1500: loss 8.999514\n",
      "iteration 900 / 1500: loss 8.999383\n",
      "iteration 1000 / 1500: loss 8.999410\n",
      "iteration 1100 / 1500: loss 8.999446\n",
      "iteration 1200 / 1500: loss 8.999258\n",
      "iteration 1300 / 1500: loss 8.999375\n",
      "iteration 1400 / 1500: loss 8.999386\n",
      "iteration 0 / 1500: loss 8.999228\n",
      "iteration 100 / 1500: loss 8.999011\n",
      "iteration 200 / 1500: loss 8.999179\n",
      "iteration 300 / 1500: loss 8.999190\n",
      "iteration 400 / 1500: loss 8.999355\n",
      "iteration 500 / 1500: loss 8.999175\n",
      "iteration 600 / 1500: loss 8.998901\n",
      "iteration 700 / 1500: loss 8.999156\n",
      "iteration 800 / 1500: loss 8.999079\n",
      "iteration 900 / 1500: loss 8.999371\n",
      "iteration 1000 / 1500: loss 8.999045\n",
      "iteration 1100 / 1500: loss 8.999052\n",
      "iteration 1200 / 1500: loss 8.999173\n",
      "iteration 1300 / 1500: loss 8.998941\n",
      "iteration 1400 / 1500: loss 8.999144\n",
      "iteration 0 / 1500: loss 8.999438\n",
      "iteration 100 / 1500: loss 8.999387\n",
      "iteration 200 / 1500: loss 8.999331\n",
      "iteration 300 / 1500: loss 8.999337\n",
      "iteration 400 / 1500: loss 8.999406\n",
      "iteration 500 / 1500: loss 8.999376\n",
      "iteration 600 / 1500: loss 8.999360\n",
      "iteration 700 / 1500: loss 8.999308\n",
      "iteration 800 / 1500: loss 8.999217\n",
      "iteration 900 / 1500: loss 8.999296\n",
      "iteration 1000 / 1500: loss 8.999166\n",
      "iteration 1100 / 1500: loss 8.999302\n",
      "iteration 1200 / 1500: loss 8.999212\n",
      "iteration 1300 / 1500: loss 8.999412\n",
      "iteration 1400 / 1500: loss 8.999367\n",
      "iteration 0 / 1500: loss 8.999503\n",
      "iteration 100 / 1500: loss 8.999471\n",
      "iteration 200 / 1500: loss 8.999335\n",
      "iteration 300 / 1500: loss 8.999466\n",
      "iteration 400 / 1500: loss 8.999454\n",
      "iteration 500 / 1500: loss 8.999498\n",
      "iteration 600 / 1500: loss 8.999337\n",
      "iteration 700 / 1500: loss 8.999507\n",
      "iteration 800 / 1500: loss 8.999631\n",
      "iteration 900 / 1500: loss 8.999483\n",
      "iteration 1000 / 1500: loss 8.999353\n",
      "iteration 1100 / 1500: loss 8.999502\n",
      "iteration 1200 / 1500: loss 8.999407\n",
      "iteration 1300 / 1500: loss 8.999437\n",
      "iteration 1400 / 1500: loss 8.999438\n",
      "lr 5.000000e-08 reg 2.000000e+04 train accuracy: 0.139082 val accuracy: 0.133000\n",
      "lr 5.000000e-08 reg 2.500000e+04 train accuracy: 0.412204 val accuracy: 0.415000\n",
      "lr 5.000000e-08 reg 3.000000e+04 train accuracy: 0.415571 val accuracy: 0.423000\n",
      "lr 2.750000e-07 reg 2.000000e+04 train accuracy: 0.415041 val accuracy: 0.421000\n",
      "lr 2.750000e-07 reg 2.500000e+04 train accuracy: 0.411918 val accuracy: 0.417000\n",
      "lr 2.750000e-07 reg 3.000000e+04 train accuracy: 0.415816 val accuracy: 0.422000\n",
      "lr 5.000000e-07 reg 2.000000e+04 train accuracy: 0.412469 val accuracy: 0.416000\n",
      "lr 5.000000e-07 reg 2.500000e+04 train accuracy: 0.416429 val accuracy: 0.422000\n",
      "lr 5.000000e-07 reg 3.000000e+04 train accuracy: 0.409837 val accuracy: 0.410000\n",
      "best validation accuracy achieved during cross-validation: 0.423000\n"
     ]
    }
   ],
   "source": [
    "# Use the validation set to tune the learning rate and regularization strength\n",
    "\n",
    "from cs231n.classifiers.linear_classifier import LinearSVM\n",
    "\n",
    "learning_rates = np.linspace(5e-8, 5e-7,num=3)\n",
    "regularization_strengths = np.linspace(2e4, 3e4,num=3)\n",
    "\n",
    "results = {}\n",
    "best_val = -1\n",
    "best_svm = None\n",
    "\n",
    "################################################################################\n",
    "# TODO:                                                                        #\n",
    "# Use the validation set to set the learning rate and regularization strength. #\n",
    "# This should be identical to the validation that you did for the SVM; save    #\n",
    "# the best trained classifer in best_svm. You might also want to play          #\n",
    "# with different numbers of bins in the color histogram. If you are careful    #\n",
    "# you should be able to get accuracy of near 0.44 on the validation set.       #\n",
    "################################################################################\n",
    "# *****START OF YOUR CODE (DO NOT DELETE/MODIFY THIS LINE)*****\n",
    "\n",
    "svm = LinearSVM()\n",
    "\n",
    "for lr in learning_rates:\n",
    "    for reg in regularization_strengths:\n",
    "        loss_hist = svm.train(X_train_feats, y_train, learning_rate=lr, reg=reg, num_iters=1500, verbose=True)\n",
    "        y_train_pred = svm.predict(X_train_feats)\n",
    "        y_val_pred = svm.predict(X_val_feats)\n",
    "        train_acc = np.mean(y_train == y_train_pred)\n",
    "        val_acc = np.mean(y_val == y_val_pred)\n",
    "        results[(lr,reg)] = train_acc,val_acc\n",
    "        if(val_acc > best_val):\n",
    "            best_svm = svm\n",
    "            best_val = val_acc\n",
    "            \n",
    "# *****END OF YOUR CODE (DO NOT DELETE/MODIFY THIS LINE)*****\n",
    "\n",
    "# Print out results.\n",
    "for lr, reg in sorted(results):\n",
    "    train_accuracy, val_accuracy = results[(lr, reg)]\n",
    "    print('lr %e reg %e train accuracy: %f val accuracy: %f' % (\n",
    "                lr, reg, train_accuracy, val_accuracy))\n",
    "    \n",
    "print('best validation accuracy achieved during cross-validation: %f' % best_val)"
   ]
  },
  {
   "cell_type": "code",
   "execution_count": 12,
   "metadata": {
    "id": "svm_test_accuracy"
   },
   "outputs": [
    {
     "name": "stdout",
     "output_type": "stream",
     "text": [
      "0.413\n"
     ]
    }
   ],
   "source": [
    "# Evaluate your trained SVM on the test set: you should be able to get at least 0.40\n",
    "y_test_pred = best_svm.predict(X_test_feats)\n",
    "test_accuracy = np.mean(y_test == y_test_pred)\n",
    "print(test_accuracy)"
   ]
  },
  {
   "cell_type": "code",
   "execution_count": 13,
   "metadata": {},
   "outputs": [
    {
     "data": {
      "image/png": "[encoded data removed]",
      "text/plain": [
       "<Figure size 720x576 with 80 Axes>"
      ]
     },
     "metadata": {
      "needs_background": "light"
     },
     "output_type": "display_data"
    }
   ],
   "source": [
    "# An important way to gain intuition about how an algorithm works is to\n",
    "# visualize the mistakes that it makes. In this visualization, we show examples\n",
    "# of images that are misclassified by our current system. The first column\n",
    "# shows images that our system labeled as \"plane\" but whose true label is\n",
    "# something other than \"plane\".\n",
    "\n",
    "examples_per_class = 8\n",
    "classes = ['plane', 'car', 'bird', 'cat', 'deer', 'dog', 'frog', 'horse', 'ship', 'truck']\n",
    "for cls, cls_name in enumerate(classes):\n",
    "    idxs = np.where((y_test != cls) & (y_test_pred == cls))[0]\n",
    "    idxs = np.random.choice(idxs, examples_per_class, replace=False)\n",
    "    for i, idx in enumerate(idxs):\n",
    "        plt.subplot(examples_per_class, len(classes), i * len(classes) + cls + 1)\n",
    "        plt.imshow(X_test[idx].astype('uint8'))\n",
    "        plt.axis('off')\n",
    "        if i == 0:\n",
    "            plt.title(cls_name)\n",
    "plt.show()"
   ]
  },
  {
   "cell_type": "markdown",
   "metadata": {
    "tags": [
     "pdf-inline"
    ]
   },
   "source": [
    "### Inline question 1:\n",
    "Describe the misclassification results that you see. Do they make sense?\n",
    "\n",
    "\n",
    "$\\color{blue}{\\textit Your Answer:}$\n",
    "\n",
    "\n"
   ]
  },
  {
   "cell_type": "markdown",
   "metadata": {},
   "source": [
    "## Neural Network on image features\n",
    "Earlier in this assigment we saw that training a two-layer neural network on raw pixels achieved better classification performance than linear classifiers on raw pixels. In this notebook we have seen that linear classifiers on image features outperform linear classifiers on raw pixels. \n",
    "\n",
    "For completeness, we should also try training a neural network on image features. This approach should outperform all previous approaches: you should easily be able to achieve over 55% classification accuracy on the test set; our best model achieves about 60% classification accuracy."
   ]
  },
  {
   "cell_type": "code",
   "execution_count": 14,
   "metadata": {
    "tags": [
     "pdf-ignore"
    ]
   },
   "outputs": [
    {
     "name": "stdout",
     "output_type": "stream",
     "text": [
      "(49000, 155)\n",
      "(49000, 154)\n"
     ]
    }
   ],
   "source": [
    "# Preprocessing: Remove the bias dimension\n",
    "# Make sure to run this cell only ONCE\n",
    "print(X_train_feats.shape)\n",
    "X_train_feats = X_train_feats[:, :-1]\n",
    "X_val_feats = X_val_feats[:, :-1]\n",
    "X_test_feats = X_test_feats[:, :-1]\n",
    "\n",
    "print(X_train_feats.shape)"
   ]
  },
  {
   "cell_type": "code",
   "execution_count": 20,
   "metadata": {
    "tags": [
     "code"
    ]
   },
   "outputs": [
    {
     "name": "stdout",
     "output_type": "stream",
     "text": [
      "hs 500 | lr 1.000e+00 | reg 1.000e-04 | loss= 1.111e+00 | train_acc 0.915000 | val_acc 0.560000\n"
     ]
    }
   ],
   "source": [
    "from cs231n.classifiers.neural_net import TwoLayerNet\n",
    "\n",
    "\n",
    "best_net = None # store the best model into this \n",
    "best_val = -1\n",
    "best_hs = None # best hidden size\n",
    "best_lr = None\n",
    "best_reg = None\n",
    "\n",
    "input_size = X_train_feats.shape[1]\n",
    "hidden_size = [500]\n",
    "num_classes = 10\n",
    "\n",
    "learning_rate = [1]\n",
    "reg = [1e-4]\n",
    "best_net = None\n",
    "\n",
    "################################################################################\n",
    "# TODO: Train a two-layer neural network on image features. You may want to    #\n",
    "# cross-validate various parameters as in previous sections. Store your best   #\n",
    "# model in the best_net variable.                                              #\n",
    "################################################################################\n",
    "# *****START OF YOUR CODE (DO NOT DELETE/MODIFY THIS LINE)*****\n",
    "\n",
    "for hs in hidden_size:\n",
    "    for lr in learning_rate:\n",
    "        for reg_ in reg:\n",
    "            net = TwoLayerNet(input_size, hs, num_classes)\n",
    "            stats = net.train(X_train_feats, y_train, X_val_feats, y_val,\n",
    "                               num_iters=1000, batch_size=200,\n",
    "                               learning_rate=lr, learning_rate_decay=0.95,\n",
    "                               reg=reg_, verbose=False)\n",
    "            train_acc = stats['train_acc_history'][-1]\n",
    "            val_acc = stats['val_acc_history'][-1]\n",
    "            loss = stats['loss_history'][-1]\n",
    "            print('hs %d | lr %0.3e | reg %0.3e | loss= %0.3e | train_acc %f | val_acc %f'\n",
    "                 %(hs, lr, reg_, loss, train_acc, val_acc))\n",
    "            if(val_acc > best_val):\n",
    "                best_val = val_acc\n",
    "                best_net = net\n",
    "                best_hs = hs\n",
    "                best_lr = lr\n",
    "                best_reg = reg_\n",
    "\n",
    "\n",
    "# *****END OF YOUR CODE (DO NOT DELETE/MODIFY THIS LINE)*****\n"
   ]
  },
  {
   "cell_type": "code",
   "execution_count": 21,
   "metadata": {
    "id": "nn_test_accuracy"
   },
   "outputs": [
    {
     "name": "stdout",
     "output_type": "stream",
     "text": [
      "0.561\n"
     ]
    }
   ],
   "source": [
    "# Run your best neural net classifier on the test set. You should be able\n",
    "# to get more than 55% accuracy.\n",
    "\n",
    "test_acc = (best_net.predict(X_test_feats) == y_test).mean()\n",
    "print(test_acc)"
   ]
  }
 ],
 "metadata": {
  "kernelspec": {
   "display_name": "Python 3",
   "language": "python",
   "name": "python3"
  },
  "language_info": {
   "codemirror_mode": {
    "name": "ipython",
    "version": 3
   },
   "file_extension": ".py",
   "mimetype": "text/x-python",
   "name": "python",
   "nbconvert_exporter": "python",
   "pygments_lexer": "ipython3",
   "version": "3.7.3"
  }
 },
 "nbformat": 4,
 "nbformat_minor": 1
}
